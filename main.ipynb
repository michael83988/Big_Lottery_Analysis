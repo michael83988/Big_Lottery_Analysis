

#從網路爬下所有樂透開獎組合
import requests as rq
from bs4 import BeautifulSoup as BS
import time
import random

import pandas as pd


#大樂透歷史資料
#url中，修改indexpage的數值即可
url_prev = 'https://www.lotto-8.com/Taiwan/listltobig.asp?indexpage='
url_post = '&orderby=old'
#url = 'https://www.lotto-8.com/Taiwan/listltobig.asp?indexpage=1&orderby=old'

#user-agent定義，防止爬蟲被擋
user_agent = "Mozilla/5.0 (Windows NT 10.0; Win64; x64) AppleWebKit/537.36 (KHTML, like Gecko) Chrome/110.0.0.0 Safari/537.36"
headers = {'user-agent': user_agent}


#變數
data = []
columns = ['date','num1','num2','num3','num4','num5','num6','special']


#爬資料
print('開始連線')
#rnd_num1 = random.random() + 1
#browser = webdriver.Edge(r'msedgedriver.exe')
#time.sleep(rnd_num1)  #單位:sec

#針對每一頁的內容作爬蟲
for i in range(70):
    url = url_prev + str(i+1) + url_post  #若數字超過總頁數，會顯示包含最新資訊的頁面；若是非數值，則會出現'500-內部伺服器錯誤'；若是沒有東西，則顯示最舊的資訊
    #requests.get(url)  
    #browser.refresh()
    rnd_num2 = random.random() + 2
    time.sleep(rnd_num2)  #單位:sec
    
    res = rq.get(url, headers=headers, verify=False)
    res.encoding = 'utf-8'
    soup = BS(res.text, 'html.parser')
    #print(soup)
    
    table = soup.find('table', id='ltotable')
    #print(type(table))
    trs = table.find_all('tr')[1:]
    #print(type(trs))
    for tr in trs:
        tds = tr.find_all('td')
        date = tds[0].text
        numbers = tds[1].text.replace('\r\n','').replace('\xa0','').strip().split(',')
        special = tds[2].text
        tmp_data = [date, *numbers, special]  #*variable: 將variable解構(decompose)，類似javascript的"...variable"
        data.append(tmp_data)
        
        #pass
    print('已取得第',i+1,'頁資料...')
    #print('===========================')
print('所有歷史資料已取得!')
print('資料總筆數: ', len(data))
#print(data)


#將資料寫入dataframe中
result = pd.DataFrame(data = data, columns = columns)
result



# 將樂透歷史紀錄匯出成excel檔
result.to_excel('./lottery_his.xlsx')


import Apriori as ap
#association = ap.apriori(result)

#匯入大樂透歷史資料，並留下必要資訊後，做apriori algorithm
history = pd.read_excel('lottery_his.xlsx', sheet_name = 'Sheet1')
#history
history_clr = history.drop(['row','date'], axis = 1) #association
print(history_clr)


ap.clear_param()
ap.set_param(0.01, 0.01)
ap.show_param()
association = ap.apriori(history_clr)
association



#將分析結果匯出成excel檔
writer = pd.ExcelWriter('./lottery_analysis.xlsx', engine = 'xlsxwriter')
association.to_excel(writer, sheet_name = 'association rule analysis')
history.to_excel(writer, sheet_name = 'lottery records')
writer.close()
